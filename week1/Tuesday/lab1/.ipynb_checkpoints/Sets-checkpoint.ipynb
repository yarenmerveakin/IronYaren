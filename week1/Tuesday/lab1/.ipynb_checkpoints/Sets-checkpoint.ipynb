{
 "cells": [
  {
   "cell_type": "markdown",
   "metadata": {},
   "source": [
    "## Challenge 2: Sets\n",
    "\n",
    "There are a lot to learn about Python Sets and the information presented in the lesson is limited due to its length. To learn Python Sets in depth you are strongly encouraged to review the W3Schools tutorial on [Python Sets Examples and Methods](https://www.w3schools.com/python/python_sets.asp) before you work on this lab. Some difficult questions in this lab have their solutions in the W3Schools tutorial.\n",
    "\n",
    "#### First, import the Python `random` libary"
   ]
  },
  {
   "cell_type": "code",
   "execution_count": 3,
   "metadata": {},
   "outputs": [],
   "source": [
    "import random"
   ]
  },
  {
   "cell_type": "markdown",
   "metadata": {},
   "source": [
    "#### In the cell below, create a list named `sample_list_1` with 80 random values. \n",
    "\n",
    "Requirements:\n",
    "\n",
    "* Each value is an integer falling between 0 and 100.\n",
    "* Each value in the list is unique.\n",
    "\n",
    "Print `sample_list_1` to review its values\n",
    "\n",
    "*Hint: use `random.sample` ([reference](https://docs.python.org/3/library/random.html#random.sample)).*"
   ]
  },
  {
   "cell_type": "code",
   "execution_count": 7,
   "metadata": {},
   "outputs": [
    {
     "name": "stdout",
     "output_type": "stream",
     "text": [
      "[10, 99, 76, 14, 96, 94, 98, 53, 77, 54, 22, 19, 34, 89, 15, 61, 70, 38, 18, 16, 79, 68, 13, 84, 5, 7, 30, 0, 83, 69, 97, 40, 57, 44, 75, 17, 6, 74, 90, 47, 3, 81, 93, 26, 35, 48, 72, 9, 65, 87, 59, 32, 37, 58, 71, 24, 1, 52, 80, 27, 78, 64, 21, 50, 55, 66, 36, 42, 31, 23, 8, 39, 73, 63, 85, 56, 46, 11, 88, 95]\n"
     ]
    }
   ],
   "source": [
    "import random\n",
    "sample_list_1 = random.sample(range(100), 80)\n",
    "print(sample_list_1)"
   ]
  },
  {
   "cell_type": "markdown",
   "metadata": {},
   "source": [
    "#### Convert `sample_list_1` to a set called `set1`. Print the length of the set. Is its length still 80?"
   ]
  },
  {
   "cell_type": "code",
   "execution_count": 8,
   "metadata": {},
   "outputs": [
    {
     "name": "stdout",
     "output_type": "stream",
     "text": [
      "[10, 99, 76, 14, 96, 94, 98, 53, 77, 54, 22, 19, 34, 89, 15, 61, 70, 38, 18, 16, 79, 68, 13, 84, 5, 7, 30, 0, 83, 69, 97, 40, 57, 44, 75, 17, 6, 74, 90, 47, 3, 81, 93, 26, 35, 48, 72, 9, 65, 87, 59, 32, 37, 58, 71, 24, 1, 52, 80, 27, 78, 64, 21, 50, 55, 66, 36, 42, 31, 23, 8, 39, 73, 63, 85, 56, 46, 11, 88, 95]\n"
     ]
    }
   ],
   "source": [
    "set1 = sample_list_1\n",
    "print(set1)\n"
   ]
  },
  {
   "cell_type": "markdown",
   "metadata": {},
   "source": [
    "#### Create another list named `sample_list_2` with 80 random values.\n",
    "\n",
    "Requirements:\n",
    "\n",
    "* Each value is an integer falling between 0 and 100.\n",
    "* The values in the list don't have to be unique.\n",
    "\n",
    "*Hint: Use a FOR loop.*"
   ]
  },
  {
   "cell_type": "code",
   "execution_count": 18,
   "metadata": {},
   "outputs": [
    {
     "name": "stdout",
     "output_type": "stream",
     "text": [
      "[85, 50, 58, 59, 34, 15, 89, 17, 52, 45, 7, 23, 80, 62, 26, 5, 46, 63, 40, 9, 86, 100, 78, 67, 43, 37, 41, 62, 79, 7, 38, 13, 65, 17, 23, 37, 19, 41, 3, 57, 2, 49, 67, 8, 87, 99, 88, 65, 91, 23, 42, 58, 56, 52, 66, 98, 49, 28, 51, 72, 26, 12, 81, 25, 48, 58, 46, 44, 3, 54, 84, 29, 64, 76, 70, 96, 2, 57, 91, 97, 54, 77, 99, 30, 20, 50, 77, 47, 100, 24, 7, 13, 6, 39, 62, 41, 50, 53, 44, 54]\n"
     ]
    }
   ],
   "source": [
    "import random\n",
    "sample_list_2 = []\n",
    "for i in range(100):\n",
    "    sample_list_2.append(random.randint(1, 100))\n",
    "print(sample_list_2 )\n"
   ]
  },
  {
   "cell_type": "markdown",
   "metadata": {},
   "source": [
    "#### Convert `sample_list_2` to a set called `set2`. Print the length of the set. Is its length still 80?"
   ]
  },
  {
   "cell_type": "code",
   "execution_count": 19,
   "metadata": {},
   "outputs": [
    {
     "name": "stdout",
     "output_type": "stream",
     "text": [
      "[85, 50, 58, 59, 34, 15, 89, 17, 52, 45, 7, 23, 80, 62, 26, 5, 46, 63, 40, 9, 86, 100, 78, 67, 43, 37, 41, 62, 79, 7, 38, 13, 65, 17, 23, 37, 19, 41, 3, 57, 2, 49, 67, 8, 87, 99, 88, 65, 91, 23, 42, 58, 56, 52, 66, 98, 49, 28, 51, 72, 26, 12, 81, 25, 48, 58, 46, 44, 3, 54, 84, 29, 64, 76, 70, 96, 2, 57, 91, 97, 54, 77, 99, 30, 20, 50, 77, 47, 100, 24, 7, 13, 6, 39, 62, 41, 50, 53, 44, 54]\n"
     ]
    }
   ],
   "source": [
    "set2 = sample_list_2\n",
    "print(set2)\n"
   ]
  },
  {
   "cell_type": "markdown",
   "metadata": {},
   "source": [
    "#### Identify the elements present in `set1` but not in `set2`. Assign the elements to a new set named `set3`."
   ]
  },
  {
   "cell_type": "code",
   "execution_count": 22,
   "metadata": {},
   "outputs": [
    {
     "name": "stdout",
     "output_type": "stream",
     "text": [
      "{0, 1, 4, 10, 11, 14, 16, 18, 21, 22, 27, 32, 33, 35, 55, 60, 61, 68, 69, 71, 73, 75, 83, 90, 93, 94}\n"
     ]
    }
   ],
   "source": [
    "set1 = set([68, 10, 71, 1, 56, 52, 3, 33, 4, 84, 51, 70, 76, 77, 48, 57, 97, 25, 64, 42, 38, 75, 41, 16, 65, 61, 21, 39, 90, 47, 9, 60, 87, 2, 5, 32, 93, 28, 27, 58, 99, 34, 72, 59, 86, 7, 80, 88, 44, 83, 8, 78, 14, 69, 20, 81, 18, 96, 23, 98, 12, 55, 43, 19, 73, 91, 11, 24, 94, 6, 0, 15, 35, 79, 62, 67, 63, 30, 22, 13])\n",
    "set2 = set([85, 50, 58, 59, 34, 15, 89, 17, 52, 45, 7, 23, 80, 62, 26, 5, 46, 63, 40, 9, 86, 100, 78, 67, 43, 37, 41, 62, 79, 7, 38, 13, 65, 17, 23, 37, 19, 41, 3, 57, 2, 49, 67, 8, 87, 99, 88, 65, 91, 23, 42, 58, 56, 52, 66, 98, 49, 28, 51, 72, 26, 12, 81, 25, 48, 58, 46, 44, 3, 54, 84, 29, 64, 76, 70, 96, 2, 57, 91, 97, 54, 77, 99, 30, 20, 50, 77, 47, 100, 24, 7, 13, 6, 39, 62, 41, 50, 53, 44, 54])\n",
    "set3 = set1 - set2 \n",
    "print(set3)"
   ]
  },
  {
   "cell_type": "markdown",
   "metadata": {},
   "source": [
    "#### Identify the elements present in `set2` but not in `set1`. Assign the elements to a new set named `set4`."
   ]
  },
  {
   "cell_type": "code",
   "execution_count": 33,
   "metadata": {
    "scrolled": true
   },
   "outputs": [
    {
     "name": "stdout",
     "output_type": "stream",
     "text": [
      "{66, 100, 37, 40, 45, 46, 17, 49, 50, 53, 54, 85, 89, 26, 29}\n"
     ]
    }
   ],
   "source": [
    "set1 = set([68, 10, 71, 1, 56, 52, 3, 33, 4, 84, 51, 70, 76, 77, 48, 57, 97, 25, 64, 42, 38, 75, 41, 16, 65, 61, 21, 39, 90, 47, 9, 60, 87, 2, 5, 32, 93, 28, 27, 58, 99, 34, 72, 59, 86, 7, 80, 88, 44, 83, 8, 78, 14, 69, 20, 81, 18, 96, 23, 98, 12, 55, 43, 19, 73, 91, 11, 24, 94, 6, 0, 15, 35, 79, 62, 67, 63, 30, 22, 13])\n",
    "set2 = set([85, 50, 58, 59, 34, 15, 89, 17, 52, 45, 7, 23, 80, 62, 26, 5, 46, 63, 40, 9, 86, 100, 78, 67, 43, 37, 41, 62, 79, 7, 38, 13, 65, 17, 23, 37, 19, 41, 3, 57, 2, 49, 67, 8, 87, 99, 88, 65, 91, 23, 42, 58, 56, 52, 66, 98, 49, 28, 51, 72, 26, 12, 81, 25, 48, 58, 46, 44, 3, 54, 84, 29, 64, 76, 70, 96, 2, 57, 91, 97, 54, 77, 99, 30, 20, 50, 77, 47, 100, 24, 7, 13, 6, 39, 62, 41, 50, 53, 44, 54])\n",
    "set4 = set2 - set1 \n",
    "print(set4)\n"
   ]
  },
  {
   "cell_type": "markdown",
   "metadata": {},
   "source": [
    "#### Now Identify the elements shared between `set1` and `set2`. Assign the elements to a new set named `set5`."
   ]
  },
  {
   "cell_type": "code",
   "execution_count": 23,
   "metadata": {},
   "outputs": [
    {
     "name": "stdout",
     "output_type": "stream",
     "text": [
      "{2, 3, 5, 6, 7, 8, 9, 12, 13, 15, 19, 20, 23, 24, 25, 28, 30, 34, 38, 39, 41, 42, 43, 44, 47, 48, 51, 52, 56, 57, 58, 59, 62, 63, 64, 65, 67, 70, 72, 76, 77, 78, 79, 80, 81, 84, 86, 87, 88, 91, 96, 97, 98, 99}\n"
     ]
    }
   ],
   "source": [
    "set1 = set([68, 10, 71, 1, 56, 52, 3, 33, 4, 84, 51, 70, 76, 77, 48, 57, 97, 25, 64, 42, 38, 75, 41, 16, 65, 61, 21, 39, 90, 47, 9, 60, 87, 2, 5, 32, 93, 28, 27, 58, 99, 34, 72, 59, 86, 7, 80, 88, 44, 83, 8, 78, 14, 69, 20, 81, 18, 96, 23, 98, 12, 55, 43, 19, 73, 91, 11, 24, 94, 6, 0, 15, 35, 79, 62, 67, 63, 30, 22, 13])\n",
    "set2 = set([85, 50, 58, 59, 34, 15, 89, 17, 52, 45, 7, 23, 80, 62, 26, 5, 46, 63, 40, 9, 86, 100, 78, 67, 43, 37, 41, 62, 79, 7, 38, 13, 65, 17, 23, 37, 19, 41, 3, 57, 2, 49, 67, 8, 87, 99, 88, 65, 91, 23, 42, 58, 56, 52, 66, 98, 49, 28, 51, 72, 26, 12, 81, 25, 48, 58, 46, 44, 3, 54, 84, 29, 64, 76, 70, 96, 2, 57, 91, 97, 54, 77, 99, 30, 20, 50, 77, 47, 100, 24, 7, 13, 6, 39, 62, 41, 50, 53, 44, 54])\n",
    "set5 = set1.intersection(set2) \n",
    "print(set5)"
   ]
  },
  {
   "cell_type": "markdown",
   "metadata": {},
   "source": [
    "#### (Optional) What is the relationship among the following values:\n",
    "\n",
    "* len(set1)\n",
    "* len(set2)\n",
    "* len(set3)\n",
    "* len(set4)\n",
    "* len(set5)\n",
    "\n",
    "Use a formula to represent that relationship. Test your formula with Python code."
   ]
  },
  {
   "cell_type": "code",
   "execution_count": null,
   "metadata": {},
   "outputs": [],
   "source": [
    "# Your code here\n"
   ]
  },
  {
   "cell_type": "markdown",
   "metadata": {},
   "source": [
    "#### Create an empty set called `set6`."
   ]
  },
  {
   "cell_type": "code",
   "execution_count": 18,
   "metadata": {},
   "outputs": [
    {
     "name": "stdout",
     "output_type": "stream",
     "text": [
      "{}\n"
     ]
    }
   ],
   "source": [
    "set6 = {}\n",
    "print(set6)\n"
   ]
  },
  {
   "cell_type": "markdown",
   "metadata": {},
   "source": [
    "#### Add `set3` and `set5` to `set6` using the Python Set `update` method."
   ]
  },
  {
   "cell_type": "code",
   "execution_count": 25,
   "metadata": {},
   "outputs": [
    {
     "ename": "TypeError",
     "evalue": "unsupported operand type(s) for +: 'set' and 'set'",
     "output_type": "error",
     "traceback": [
      "\u001b[0;31m---------------------------------------------------------------------------\u001b[0m",
      "\u001b[0;31mTypeError\u001b[0m                                 Traceback (most recent call last)",
      "\u001b[0;32m/var/folders/14/fzxrp6114zn_3n_1844ck_1c0000gn/T/ipykernel_12611/3740228113.py\u001b[0m in \u001b[0;36m<module>\u001b[0;34m\u001b[0m\n\u001b[0;32m----> 1\u001b[0;31m \u001b[0mset6\u001b[0m \u001b[0;34m+=\u001b[0m \u001b[0mset3\u001b[0m \u001b[0;34m+\u001b[0m \u001b[0mset5\u001b[0m\u001b[0;34m\u001b[0m\u001b[0;34m\u001b[0m\u001b[0m\n\u001b[0m",
      "\u001b[0;31mTypeError\u001b[0m: unsupported operand type(s) for +: 'set' and 'set'"
     ]
    }
   ],
   "source": [
    "set6 += set3 + set5 \n"
   ]
  },
  {
   "cell_type": "markdown",
   "metadata": {},
   "source": [
    "#### Check if `set1` and `set6` are equal."
   ]
  },
  {
   "cell_type": "code",
   "execution_count": 20,
   "metadata": {},
   "outputs": [
    {
     "data": {
      "text/plain": [
       "False"
      ]
     },
     "execution_count": 20,
     "metadata": {},
     "output_type": "execute_result"
    }
   ],
   "source": [
    "set1 == set6\n",
    "\n"
   ]
  },
  {
   "cell_type": "markdown",
   "metadata": {},
   "source": [
    "#### Check if `set1` contains `set2` using the Python Set `issubset` method. Then check if `set1` contains `set3`.*"
   ]
  },
  {
   "cell_type": "code",
   "execution_count": null,
   "metadata": {},
   "outputs": [],
   "source": [
    "\n"
   ]
  },
  {
   "cell_type": "markdown",
   "metadata": {},
   "source": [
    "#### Using the Python Set `union` method, aggregate `set3`, `set4`, and `set5`. Then aggregate `set1` and `set2`. \n",
    "\n",
    "#### Check if the aggregated values are equal."
   ]
  },
  {
   "cell_type": "code",
   "execution_count": null,
   "metadata": {},
   "outputs": [],
   "source": [
    "# Your code here\n"
   ]
  },
  {
   "cell_type": "markdown",
   "metadata": {},
   "source": [
    "#### Using the `pop` method, remove an element from `set1`."
   ]
  },
  {
   "cell_type": "code",
   "execution_count": null,
   "metadata": {},
   "outputs": [],
   "source": [
    "# Your code here\n"
   ]
  },
  {
   "cell_type": "markdown",
   "metadata": {},
   "source": [
    "#### Remove every element in the following list from `set1` if they are present in the set. Print the remaining elements.\n",
    "\n",
    "```\n",
    "list_to_remove = [1, 9, 11, 19, 21, 29, 31, 39, 41, 49, 51, 59, 61, 69, 71, 79, 81, 89, 91, 99]\n",
    "```"
   ]
  },
  {
   "cell_type": "code",
   "execution_count": 14,
   "metadata": {},
   "outputs": [
    {
     "ename": "TypeError",
     "evalue": "list.remove() takes exactly one argument (19 given)",
     "output_type": "error",
     "traceback": [
      "\u001b[0;31m---------------------------------------------------------------------------\u001b[0m",
      "\u001b[0;31mTypeError\u001b[0m                                 Traceback (most recent call last)",
      "\u001b[0;32m/var/folders/14/fzxrp6114zn_3n_1844ck_1c0000gn/T/ipykernel_12611/694884769.py\u001b[0m in \u001b[0;36m<module>\u001b[0;34m\u001b[0m\n\u001b[0;32m----> 1\u001b[0;31m \u001b[0mset1\u001b[0m\u001b[0;34m.\u001b[0m\u001b[0mremove\u001b[0m\u001b[0;34m(\u001b[0m\u001b[0;36m1\u001b[0m\u001b[0;34m,\u001b[0m \u001b[0;36m9\u001b[0m\u001b[0;34m,\u001b[0m \u001b[0;36m11\u001b[0m\u001b[0;34m,\u001b[0m \u001b[0;36m19\u001b[0m\u001b[0;34m,\u001b[0m \u001b[0;36m21\u001b[0m\u001b[0;34m,\u001b[0m \u001b[0;36m29\u001b[0m\u001b[0;34m,\u001b[0m \u001b[0;36m31\u001b[0m\u001b[0;34m,\u001b[0m \u001b[0;36m39\u001b[0m\u001b[0;34m,\u001b[0m \u001b[0;36m41\u001b[0m\u001b[0;34m,\u001b[0m \u001b[0;36m49\u001b[0m\u001b[0;34m,\u001b[0m \u001b[0;36m51\u001b[0m\u001b[0;34m,\u001b[0m \u001b[0;36m59\u001b[0m\u001b[0;34m,\u001b[0m \u001b[0;36m61\u001b[0m\u001b[0;34m,\u001b[0m \u001b[0;36m69\u001b[0m\u001b[0;34m,\u001b[0m \u001b[0;36m71\u001b[0m\u001b[0;34m,\u001b[0m \u001b[0;36m79\u001b[0m\u001b[0;34m,\u001b[0m \u001b[0;36m81\u001b[0m\u001b[0;34m,\u001b[0m \u001b[0;36m89\u001b[0m\u001b[0;34m,\u001b[0m \u001b[0;36m9\u001b[0m\u001b[0;34m)\u001b[0m\u001b[0;34m\u001b[0m\u001b[0;34m\u001b[0m\u001b[0m\n\u001b[0m",
      "\u001b[0;31mTypeError\u001b[0m: list.remove() takes exactly one argument (19 given)"
     ]
    }
   ],
   "source": [
    "set1.remove(1, 9, 11, 19, 21, 29, 31, 39, 41, 49, 51, 59, 61, 69, 71, 79, 81, 89, 9)"
   ]
  }
 ],
 "metadata": {
  "kernelspec": {
   "display_name": "Python 3 (ipykernel)",
   "language": "python",
   "name": "python3"
  },
  "language_info": {
   "codemirror_mode": {
    "name": "ipython",
    "version": 3
   },
   "file_extension": ".py",
   "mimetype": "text/x-python",
   "name": "python",
   "nbconvert_exporter": "python",
   "pygments_lexer": "ipython3",
   "version": "3.9.13"
  },
  "toc": {
   "base_numbering": 1,
   "nav_menu": {},
   "number_sections": false,
   "sideBar": true,
   "skip_h1_title": false,
   "title_cell": "Table of Contents",
   "title_sidebar": "Contents",
   "toc_cell": false,
   "toc_position": {},
   "toc_section_display": true,
   "toc_window_display": false
  }
 },
 "nbformat": 4,
 "nbformat_minor": 2
}
