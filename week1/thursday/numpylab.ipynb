{
 "cells": [
  {
   "cell_type": "code",
   "execution_count": null,
   "id": "c9334829",
   "metadata": {},
   "outputs": [],
   "source": [
    "#### 1. Import the numpy package under the name `np` (★☆☆)\n",
    "`hint: import … as`"
   ]
  },
  {
   "cell_type": "code",
   "execution_count": 1,
   "id": "66f5ac4a",
   "metadata": {},
   "outputs": [],
   "source": [
    "import numpy as np"
   ]
  },
  {
   "cell_type": "code",
   "execution_count": null,
   "id": "98509d38",
   "metadata": {},
   "outputs": [],
   "source": [
    "#### 2. Create a null vector of size 10 (★☆☆)\n",
    "`hint: np.zeros`"
   ]
  },
  {
   "cell_type": "code",
   "execution_count": 19,
   "id": "d8f0a7fb",
   "metadata": {},
   "outputs": [
    {
     "data": {
      "text/plain": [
       "array([0., 0., 0., 0., 0., 0., 0., 0., 0., 0.])"
      ]
     },
     "execution_count": 19,
     "metadata": {},
     "output_type": "execute_result"
    }
   ],
   "source": [
    "np.zeros(10)\n"
   ]
  },
  {
   "cell_type": "code",
   "execution_count": null,
   "id": "770a2f07",
   "metadata": {},
   "outputs": [],
   "source": [
    "#### 3. Create a null vector of size 10 but the fifth value which is 1 (★☆☆)\n",
    "`hint: array[4]`"
   ]
  },
  {
   "cell_type": "code",
   "execution_count": 21,
   "id": "80bc8983",
   "metadata": {},
   "outputs": [
    {
     "name": "stdout",
     "output_type": "stream",
     "text": [
      "[0. 0. 0. 0. 1. 0. 0. 0. 0. 0.]\n"
     ]
    }
   ],
   "source": [
    "array = np.zeros(10) \n",
    "array[4] = 1\n",
    "print(array)\n"
   ]
  },
  {
   "cell_type": "code",
   "execution_count": null,
   "id": "9217c49c",
   "metadata": {},
   "outputs": [],
   "source": [
    "#### 4. Create a vector with values ranging from 10 to 49 (★☆☆)\n",
    "`hint: arange`"
   ]
  },
  {
   "cell_type": "code",
   "execution_count": 22,
   "id": "78d9ee35",
   "metadata": {},
   "outputs": [
    {
     "data": {
      "text/plain": [
       "array([10, 11, 12, 13, 14, 15, 16, 17, 18, 19, 20, 21, 22, 23, 24, 25, 26,\n",
       "       27, 28, 29, 30, 31, 32, 33, 34, 35, 36, 37, 38, 39, 40, 41, 42, 43,\n",
       "       44, 45, 46, 47, 48])"
      ]
     },
     "execution_count": 22,
     "metadata": {},
     "output_type": "execute_result"
    }
   ],
   "source": [
    "np.arange(10,49,1)"
   ]
  },
  {
   "cell_type": "code",
   "execution_count": null,
   "id": "f4f6e1ea",
   "metadata": {},
   "outputs": [],
   "source": [
    "#### 5. Create a 3x3 matrix with values ranging from 0 to 9 (★☆☆)\n",
    "`hint: reshape`"
   ]
  },
  {
   "cell_type": "code",
   "execution_count": 32,
   "id": "7760b915",
   "metadata": {},
   "outputs": [
    {
     "data": {
      "text/plain": [
       "array([[0, 1, 2],\n",
       "       [3, 4, 5],\n",
       "       [6, 7, 8]])"
      ]
     },
     "execution_count": 32,
     "metadata": {},
     "output_type": "execute_result"
    }
   ],
   "source": [
    "np.arange(0, 9).reshape((3, 3))"
   ]
  },
  {
   "cell_type": "code",
   "execution_count": null,
   "id": "57625802",
   "metadata": {},
   "outputs": [],
   "source": [
    "#### 6. Find indices of non-zero elements from [1,2,0,0,4,0] (★☆☆)\n",
    "`hint: np.nonzero`"
   ]
  },
  {
   "cell_type": "code",
   "execution_count": 36,
   "id": "3a7dd964",
   "metadata": {},
   "outputs": [
    {
     "name": "stdout",
     "output_type": "stream",
     "text": [
      "[0, 1, 4]\n"
     ]
    }
   ],
   "source": [
    "lst = [1, 2, 0, 0, 4, 0]\n",
    "nonzero_indices = []\n",
    "\n",
    "for i in range(len(lst)):\n",
    "    if lst[i] != 0:\n",
    "        nonzero_indices.append(i)\n",
    "\n",
    "print(nonzero_indices)"
   ]
  },
  {
   "cell_type": "code",
   "execution_count": null,
   "id": "0c1b51bf",
   "metadata": {},
   "outputs": [],
   "source": [
    "#### 7. Create a 3x3 identity matrix (★☆☆)\n",
    "`hint: np.eye`"
   ]
  },
  {
   "cell_type": "code",
   "execution_count": 38,
   "id": "6115e42e",
   "metadata": {},
   "outputs": [
    {
     "data": {
      "text/plain": [
       "array([[1., 0., 0.],\n",
       "       [0., 1., 0.],\n",
       "       [0., 0., 1.]])"
      ]
     },
     "execution_count": 38,
     "metadata": {},
     "output_type": "execute_result"
    }
   ],
   "source": [
    "np.eye(3,3)"
   ]
  },
  {
   "cell_type": "code",
   "execution_count": null,
   "id": "a0ddeab4",
   "metadata": {},
   "outputs": [],
   "source": [
    "#### 8. Create a 3x3x3 array with random values (★☆☆)\n",
    "`hint: np.random.random`"
   ]
  },
  {
   "cell_type": "code",
   "execution_count": 42,
   "id": "d5a8fd3d",
   "metadata": {},
   "outputs": [
    {
     "data": {
      "text/plain": [
       "array([[[0.76765511, 0.2054924 , 0.40184655],\n",
       "        [0.18254151, 0.29873561, 0.05215492],\n",
       "        [0.61753366, 0.86473481, 0.3604411 ]],\n",
       "\n",
       "       [[0.91089929, 0.25112774, 0.76823895],\n",
       "        [0.69433828, 0.3561172 , 0.01851593],\n",
       "        [0.94096217, 0.72224741, 0.91346757]],\n",
       "\n",
       "       [[0.3291242 , 0.87362351, 0.67479305],\n",
       "        [0.33489498, 0.40860971, 0.28015478],\n",
       "        [0.78390877, 0.43477619, 0.27697294]]])"
      ]
     },
     "execution_count": 42,
     "metadata": {},
     "output_type": "execute_result"
    }
   ],
   "source": [
    "np.random.random((3,3,3))"
   ]
  },
  {
   "cell_type": "code",
   "execution_count": null,
   "id": "ba1a3a88",
   "metadata": {},
   "outputs": [],
   "source": [
    "#### 9. Create a 10x10 array with random values and find the minimum and maximum values (★☆☆)\n",
    "`hint: min, max`\n"
   ]
  },
  {
   "cell_type": "code",
   "execution_count": 51,
   "id": "f3dbddc4",
   "metadata": {
    "scrolled": true
   },
   "outputs": [
    {
     "name": "stdout",
     "output_type": "stream",
     "text": [
      "[[0.43659079 0.11112009 0.47813006 0.28068312 0.90346824 0.25246023\n",
      "  0.13680568 0.01949102 0.63295125 0.6480861 ]\n",
      " [0.8433896  0.47641845 0.68423869 0.43233764 0.22511827 0.78057718\n",
      "  0.24457781 0.04334973 0.04588847 0.07537832]\n",
      " [0.62897127 0.68419077 0.35168735 0.07123743 0.84485234 0.74036341\n",
      "  0.27199508 0.71733936 0.74189309 0.83893919]\n",
      " [0.25578226 0.67394995 0.38343472 0.65683312 0.89915686 0.24990136\n",
      "  0.54893542 0.02175384 0.6876774  0.20919681]\n",
      " [0.6596206  0.62961217 0.60864309 0.9510913  0.37524866 0.75432921\n",
      "  0.04796749 0.44665774 0.66247276 0.86994108]\n",
      " [0.79867096 0.0069252  0.25960237 0.76650662 0.28798536 0.19618019\n",
      "  0.82763576 0.7706087  0.0927321  0.09979803]\n",
      " [0.59625385 0.64671516 0.8945451  0.4665105  0.73004632 0.76002903\n",
      "  0.5760699  0.77885854 0.89477971 0.90517355]\n",
      " [0.2485477  0.36769877 0.54156335 0.85762211 0.15607115 0.66192932\n",
      "  0.74182374 0.91827723 0.86942076 0.37787742]\n",
      " [0.35889907 0.30859862 0.57375419 0.69686725 0.0355399  0.53017975\n",
      "  0.1454016  0.30033203 0.57166122 0.14950447]\n",
      " [0.80228107 0.28625779 0.70933861 0.54420078 0.03194173 0.02583735\n",
      "  0.20027845 0.77661827 0.68032475 0.68003184]]\n"
     ]
    }
   ],
   "source": [
    "a = np.random.random((10,10))\n",
    "print(a)"
   ]
  },
  {
   "cell_type": "code",
   "execution_count": 53,
   "id": "1a2381f1",
   "metadata": {},
   "outputs": [
    {
     "name": "stdout",
     "output_type": "stream",
     "text": [
      "0.006925203574011163\n",
      "0.9510912970892181\n"
     ]
    }
   ],
   "source": [
    "x = a.min()\n",
    "y = a.max()\n",
    "print(x)\n",
    "print(y)"
   ]
  },
  {
   "cell_type": "code",
   "execution_count": null,
   "id": "6d3a5d7a",
   "metadata": {},
   "outputs": [],
   "source": [
    "#### 10. Create a random vector of size 30 and find the mean value (★☆☆)\n",
    "`hint: mean`"
   ]
  },
  {
   "cell_type": "code",
   "execution_count": 56,
   "id": "ab90e365",
   "metadata": {},
   "outputs": [
    {
     "name": "stdout",
     "output_type": "stream",
     "text": [
      "[0.00968324 0.45551388 0.23716201 0.35601852 0.11867369 0.5917596\n",
      " 0.30784561 0.79245536 0.81379586 0.87238378 0.83735749 0.10201487\n",
      " 0.85608207 0.32957018 0.11664894 0.56661847 0.47665228 0.79032615\n",
      " 0.82053613 0.98468288 0.53044515 0.12513574 0.81182878 0.55241331\n",
      " 0.18806935 0.63123808 0.93631906 0.29030675 0.2264065  0.94433292]\n"
     ]
    }
   ],
   "source": [
    "b = np.random.random(30)\n",
    "print(b)"
   ]
  },
  {
   "cell_type": "code",
   "execution_count": 58,
   "id": "b1668b0f",
   "metadata": {},
   "outputs": [
    {
     "name": "stdout",
     "output_type": "stream",
     "text": [
      "0.5224092216808136\n"
     ]
    }
   ],
   "source": [
    "mean = b.mean()\n",
    "print(mean)"
   ]
  },
  {
   "cell_type": "code",
   "execution_count": null,
   "id": "7a893dba",
   "metadata": {},
   "outputs": [],
   "source": [
    "#### 11. Create a 5x5 matrix with values 1,2,3,4 just below the diagonal (★☆☆)\n",
    "`hint: np.diag`\n"
   ]
  },
  {
   "cell_type": "code",
   "execution_count": null,
   "id": "1e420e5c",
   "metadata": {},
   "outputs": [],
   "source": [
    "#### 12. Normalize a 5x5 random matrix (★☆☆)\n",
    "`hint: (x -mean)/std`"
   ]
  },
  {
   "cell_type": "code",
   "execution_count": 63,
   "id": "cc21d62c",
   "metadata": {},
   "outputs": [
    {
     "name": "stdout",
     "output_type": "stream",
     "text": [
      "Original Array:\n",
      "[[0.62299948 0.14772326 0.54120223 0.3393936  0.48207183]\n",
      " [0.09985519 0.43063471 0.73030442 0.05673244 0.24682679]\n",
      " [0.09000021 0.4224843  0.88434396 0.61655871 0.1298684 ]\n",
      " [0.99982597 0.16507236 0.16240279 0.35287525 0.57121964]\n",
      " [0.54470593 0.25421631 0.67821162 0.03983568 0.12168325]]\n",
      "After normalization:\n",
      "[[0.60746843 0.11238403 0.5222621  0.31204266 0.46066731]\n",
      " [0.06252095 0.40708644 0.71924555 0.01760096 0.21561792]\n",
      " [0.05225524 0.39859634 0.87970502 0.60075923 0.09378503]\n",
      " [1.         0.13045619 0.12767536 0.32608618 0.55353055]\n",
      " [0.52591182 0.22331541 0.66498166 0.         0.08525875]]\n"
     ]
    }
   ],
   "source": [
    "x= np.random.random((5,5))\n",
    "print(\"Original Array:\")\n",
    "print(x)\n",
    "xmax, xmin = x.max(), x.min()\n",
    "x = (x - xmin)/(xmax - xmin)\n",
    "print(\"After normalization:\")\n",
    "print(x)"
   ]
  },
  {
   "cell_type": "code",
   "execution_count": null,
   "id": "f02652b4",
   "metadata": {},
   "outputs": [],
   "source": [
    "#### 13. How to find common values between two arrays? (★☆☆)\n",
    "`hint: np.intersect1d`\n"
   ]
  },
  {
   "cell_type": "code",
   "execution_count": 67,
   "id": "9f146f1f",
   "metadata": {},
   "outputs": [
    {
     "data": {
      "text/plain": [
       "array([], dtype=int64)"
      ]
     },
     "execution_count": 67,
     "metadata": {},
     "output_type": "execute_result"
    }
   ],
   "source": [
    "ar1 = [1,2,3]\n",
    "ar2 = [4,5,6]\n",
    "(np.intersect1d(ar1,ar2))"
   ]
  },
  {
   "cell_type": "code",
   "execution_count": null,
   "id": "7636b60d",
   "metadata": {},
   "outputs": [],
   "source": [
    "#### 14. Create a random vector of size 10 and sort it (★★☆)\n",
    "`hint: sort`"
   ]
  },
  {
   "cell_type": "code",
   "execution_count": 73,
   "id": "967586d1",
   "metadata": {},
   "outputs": [
    {
     "name": "stdout",
     "output_type": "stream",
     "text": [
      "[0.07324577 0.39612697 0.07321169 0.18716338 0.56592661 0.06176257\n",
      " 0.89307001 0.6477732  0.19183164 0.42420494]\n"
     ]
    }
   ],
   "source": [
    "a= np.random.random(10)\n",
    "print(a)"
   ]
  },
  {
   "cell_type": "code",
   "execution_count": 74,
   "id": "bd3169f0",
   "metadata": {},
   "outputs": [
    {
     "name": "stdout",
     "output_type": "stream",
     "text": [
      "[0.06176257 0.07321169 0.07324577 0.18716338 0.19183164 0.39612697\n",
      " 0.42420494 0.56592661 0.6477732  0.89307001]\n"
     ]
    }
   ],
   "source": [
    "a.sort()\n",
    "print(a)"
   ]
  },
  {
   "cell_type": "code",
   "execution_count": null,
   "id": "de5795a9",
   "metadata": {},
   "outputs": [],
   "source": [
    "#### 15. Create random vector of size 10 and replace the maximum value by 0 (★★☆)\n",
    "`hint: argmax`\n"
   ]
  },
  {
   "cell_type": "code",
   "execution_count": 81,
   "id": "79e4592c",
   "metadata": {},
   "outputs": [
    {
     "name": "stdout",
     "output_type": "stream",
     "text": [
      "[0.69156515 0.28772565 0.57601165 0.88838885 0.92239694 0.77251174\n",
      " 0.59089969 0.08377969 0.14889559 0.84283978]\n"
     ]
    }
   ],
   "source": [
    "r = np.random.random(10)\n",
    "print(r)"
   ]
  },
  {
   "cell_type": "code",
   "execution_count": 82,
   "id": "3d75defb",
   "metadata": {},
   "outputs": [
    {
     "name": "stdout",
     "output_type": "stream",
     "text": [
      "[0.69156515 0.28772565 0.57601165 0.88838885 0.92239694 0.77251174\n",
      " 0.59089969 0.08377969 0.14889559 0.84283978]\n"
     ]
    }
   ],
   "source": [
    "r[r.argmax(0)]\n",
    "print(r)"
   ]
  },
  {
   "cell_type": "code",
   "execution_count": null,
   "id": "68523424",
   "metadata": {},
   "outputs": [],
   "source": [
    "#### 16. Subtract the mean of each row of a matrix (★★☆)\n",
    "`hint: mean(axis=,keepdims=)`"
   ]
  },
  {
   "cell_type": "code",
   "execution_count": 83,
   "id": "c706db38",
   "metadata": {
    "scrolled": true
   },
   "outputs": [
    {
     "name": "stdout",
     "output_type": "stream",
     "text": [
      "[[0.94365643 0.33500907 0.60596114 0.90411589]\n",
      " [0.21727255 0.14198243 0.46321739 0.10142904]\n",
      " [0.5640818  0.23149137 0.12558543 0.40321335]]\n"
     ]
    }
   ],
   "source": [
    "a = np.random.rand(3, 4)\n",
    "print(a)"
   ]
  },
  {
   "cell_type": "code",
   "execution_count": 84,
   "id": "a46a519c",
   "metadata": {},
   "outputs": [
    {
     "name": "stdout",
     "output_type": "stream",
     "text": [
      "[[ 0.2464708  -0.36217656 -0.0912245   0.20693026]\n",
      " [-0.0137028  -0.08899292  0.23224204 -0.12954631]\n",
      " [ 0.23298882 -0.09960162 -0.20550756  0.07212037]]\n"
     ]
    }
   ],
   "source": [
    "b = a - a.mean(axis=1, keepdims=True)\n",
    "print(b)"
   ]
  },
  {
   "cell_type": "code",
   "execution_count": null,
   "id": "17542a74",
   "metadata": {},
   "outputs": [],
   "source": [
    "#### 17. How to get the n largest values of an array (★★★)\n",
    "`Z = np.arange(10000)\n",
    "np.random.shuffle(Z)\n",
    "n = 5\n",
    "hint: np.argsort | np.argpartition`"
   ]
  },
  {
   "cell_type": "code",
   "execution_count": null,
   "id": "122979d6",
   "metadata": {},
   "outputs": [],
   "source": [
    "#### 18. Create a random 5*3 matrix and replace items that are larger than 4 by their squares ( Example:  6 --> 36) \n",
    "`hint: np.where`"
   ]
  },
  {
   "cell_type": "code",
   "execution_count": 86,
   "id": "87040d61",
   "metadata": {
    "scrolled": true
   },
   "outputs": [
    {
     "name": "stdout",
     "output_type": "stream",
     "text": [
      "[[0.67796129 0.05469228 0.06701323]\n",
      " [0.69067701 0.29743758 0.54682803]\n",
      " [0.32783451 0.96736007 0.06387344]\n",
      " [0.81453383 0.52818134 0.14106037]\n",
      " [0.94114154 0.59647308 0.95055717]]\n"
     ]
    }
   ],
   "source": [
    "x = np.random.rand(5,3)\n",
    "print(x)"
   ]
  },
  {
   "cell_type": "code",
   "execution_count": 89,
   "id": "f0061e4d",
   "metadata": {},
   "outputs": [
    {
     "name": "stdout",
     "output_type": "stream",
     "text": [
      "[]\n"
     ]
    }
   ],
   "source": [
    "y = x[x > 4] = x[x > 4] ** 2\n",
    "print(y)"
   ]
  }
 ],
 "metadata": {
  "kernelspec": {
   "display_name": "Python 3 (ipykernel)",
   "language": "python",
   "name": "python3"
  },
  "language_info": {
   "codemirror_mode": {
    "name": "ipython",
    "version": 3
   },
   "file_extension": ".py",
   "mimetype": "text/x-python",
   "name": "python",
   "nbconvert_exporter": "python",
   "pygments_lexer": "ipython3",
   "version": "3.9.13"
  }
 },
 "nbformat": 4,
 "nbformat_minor": 5
}
