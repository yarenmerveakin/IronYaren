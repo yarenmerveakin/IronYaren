{
 "cells": [
  {
   "cell_type": "markdown",
   "metadata": {
    "id": "Lz0egMoXHyG_"
   },
   "source": [
    "# String operations"
   ]
  },
  {
   "cell_type": "markdown",
   "metadata": {
    "id": "vxdfsBWqTDQD"
   },
   "source": [
    "### Strings"
   ]
  },
  {
   "cell_type": "code",
   "execution_count": 1,
   "metadata": {
    "colab": {
     "base_uri": "https://localhost:8080/",
     "height": 35
    },
    "executionInfo": {
     "elapsed": 37,
     "status": "ok",
     "timestamp": 1622473084908,
     "user": {
      "displayName": "Ignacio Soteras",
      "photoUrl": "",
      "userId": "02050793736257155229"
     },
     "user_tz": -120
    },
    "id": "r3BbkKWYTDQD",
    "outputId": "5eae24da-516c-4bbf-ab4a-c11641f1adab",
    "scrolled": true
   },
   "outputs": [
    {
     "data": {
      "text/plain": [
       "'hey guys how are you doing'"
      ]
     },
     "execution_count": 1,
     "metadata": {},
     "output_type": "execute_result"
    }
   ],
   "source": [
    "mystring = \"hey guys how are you doing\"\n",
    "mystring"
   ]
  },
  {
   "cell_type": "code",
   "execution_count": 2,
   "metadata": {
    "colab": {
     "base_uri": "https://localhost:8080/"
    },
    "executionInfo": {
     "elapsed": 34,
     "status": "ok",
     "timestamp": 1622473084910,
     "user": {
      "displayName": "Ignacio Soteras",
      "photoUrl": "",
      "userId": "02050793736257155229"
     },
     "user_tz": -120
    },
    "id": "0YXgTvNnTDQE",
    "outputId": "982f480e-bf7d-4583-ba64-2af7826b6a0c"
   },
   "outputs": [
    {
     "data": {
      "text/plain": [
       "str"
      ]
     },
     "execution_count": 2,
     "metadata": {},
     "output_type": "execute_result"
    }
   ],
   "source": [
    "type(mystring)"
   ]
  },
  {
   "cell_type": "markdown",
   "metadata": {
    "id": "52Agsn7fTDQF"
   },
   "source": [
    "String methods: https://www.w3schools.com/python/python_ref_string.asp"
   ]
  },
  {
   "cell_type": "code",
   "execution_count": 3,
   "metadata": {
    "colab": {
     "base_uri": "https://localhost:8080/",
     "height": 35
    },
    "executionInfo": {
     "elapsed": 29,
     "status": "ok",
     "timestamp": 1622473084911,
     "user": {
      "displayName": "Ignacio Soteras",
      "photoUrl": "",
      "userId": "02050793736257155229"
     },
     "user_tz": -120
    },
    "id": "SIRA50dCTDQF",
    "outputId": "d2b7d785-0355-4886-c174-7c93c5b8ef83"
   },
   "outputs": [
    {
     "data": {
      "text/plain": [
       "'HEY GUYS HOW ARE YOU DOING'"
      ]
     },
     "execution_count": 3,
     "metadata": {},
     "output_type": "execute_result"
    }
   ],
   "source": [
    "mystring.upper()"
   ]
  },
  {
   "cell_type": "code",
   "execution_count": 4,
   "metadata": {
    "colab": {
     "base_uri": "https://localhost:8080/"
    },
    "executionInfo": {
     "elapsed": 27,
     "status": "ok",
     "timestamp": 1622473084911,
     "user": {
      "displayName": "Ignacio Soteras",
      "photoUrl": "",
      "userId": "02050793736257155229"
     },
     "user_tz": -120
    },
    "id": "W_5efpQUTDQF",
    "outputId": "632a66a8-1b74-46c6-be17-9d41d65a7fca"
   },
   "outputs": [
    {
     "data": {
      "text/plain": [
       "1"
      ]
     },
     "execution_count": 4,
     "metadata": {},
     "output_type": "execute_result"
    }
   ],
   "source": [
    "mystring.count(\"ey\")"
   ]
  },
  {
   "cell_type": "markdown",
   "metadata": {
    "id": "tBpS1vClTDQG"
   },
   "source": [
    "**Indexing**"
   ]
  },
  {
   "cell_type": "code",
   "execution_count": 5,
   "metadata": {
    "colab": {
     "base_uri": "https://localhost:8080/",
     "height": 35
    },
    "executionInfo": {
     "elapsed": 24,
     "status": "ok",
     "timestamp": 1622473084912,
     "user": {
      "displayName": "Ignacio Soteras",
      "photoUrl": "",
      "userId": "02050793736257155229"
     },
     "user_tz": -120
    },
    "id": "FmDuu5DkTDQG",
    "outputId": "6b68f54e-4931-42df-ccb6-af414589ef6b"
   },
   "outputs": [
    {
     "data": {
      "text/plain": [
       "'h'"
      ]
     },
     "execution_count": 5,
     "metadata": {},
     "output_type": "execute_result"
    }
   ],
   "source": [
    "mystring[0]"
   ]
  },
  {
   "cell_type": "code",
   "execution_count": 6,
   "metadata": {
    "colab": {
     "base_uri": "https://localhost:8080/",
     "height": 35
    },
    "executionInfo": {
     "elapsed": 23,
     "status": "ok",
     "timestamp": 1622473084913,
     "user": {
      "displayName": "Ignacio Soteras",
      "photoUrl": "",
      "userId": "02050793736257155229"
     },
     "user_tz": -120
    },
    "id": "1BH_GB4vTDQG",
    "outputId": "f51234cf-05af-4eff-e5a2-51c8e5471baa"
   },
   "outputs": [
    {
     "data": {
      "text/plain": [
       "'g'"
      ]
     },
     "execution_count": 6,
     "metadata": {},
     "output_type": "execute_result"
    }
   ],
   "source": [
    "mystring[-1]"
   ]
  },
  {
   "cell_type": "code",
   "execution_count": 7,
   "metadata": {
    "colab": {
     "base_uri": "https://localhost:8080/",
     "height": 35
    },
    "executionInfo": {
     "elapsed": 23,
     "status": "ok",
     "timestamp": 1622473084914,
     "user": {
      "displayName": "Ignacio Soteras",
      "photoUrl": "",
      "userId": "02050793736257155229"
     },
     "user_tz": -120
    },
    "id": "H3jvNUP5TDQG",
    "outputId": "ed80f1b6-bb12-42c0-ae01-c01820d5977f"
   },
   "outputs": [
    {
     "data": {
      "text/plain": [
       "'y g'"
      ]
     },
     "execution_count": 7,
     "metadata": {},
     "output_type": "execute_result"
    }
   ],
   "source": [
    "mystring[2:5]"
   ]
  },
  {
   "cell_type": "code",
   "execution_count": 8,
   "metadata": {
    "colab": {
     "base_uri": "https://localhost:8080/",
     "height": 35
    },
    "executionInfo": {
     "elapsed": 22,
     "status": "ok",
     "timestamp": 1622473084914,
     "user": {
      "displayName": "Ignacio Soteras",
      "photoUrl": "",
      "userId": "02050793736257155229"
     },
     "user_tz": -120
    },
    "id": "QJ830IigTDQH",
    "outputId": "4295a27b-3e88-48a5-ef1e-dc6fd305e1e8"
   },
   "outputs": [
    {
     "data": {
      "text/plain": [
       "'y guys how are you doing'"
      ]
     },
     "execution_count": 8,
     "metadata": {},
     "output_type": "execute_result"
    }
   ],
   "source": [
    "mystring[2:]"
   ]
  },
  {
   "cell_type": "markdown",
   "metadata": {},
   "source": [
    "<b>copy by value"
   ]
  },
  {
   "cell_type": "code",
   "execution_count": 9,
   "metadata": {
    "executionInfo": {
     "elapsed": 19,
     "status": "ok",
     "timestamp": 1622473085117,
     "user": {
      "displayName": "Ignacio Soteras",
      "photoUrl": "",
      "userId": "02050793736257155229"
     },
     "user_tz": -120
    },
    "id": "lTEExjrtTDQH"
   },
   "outputs": [],
   "source": [
    "mystring = \"Good bye\""
   ]
  },
  {
   "cell_type": "code",
   "execution_count": 10,
   "metadata": {
    "colab": {
     "base_uri": "https://localhost:8080/",
     "height": 35
    },
    "executionInfo": {
     "elapsed": 20,
     "status": "ok",
     "timestamp": 1622473085118,
     "user": {
      "displayName": "Ignacio Soteras",
      "photoUrl": "",
      "userId": "02050793736257155229"
     },
     "user_tz": -120
    },
    "id": "4SGmTbbFTDQH",
    "outputId": "1f7292f4-787b-4826-a95c-79205d482fa5",
    "scrolled": true
   },
   "outputs": [
    {
     "data": {
      "text/plain": [
       "'Good bye'"
      ]
     },
     "execution_count": 10,
     "metadata": {},
     "output_type": "execute_result"
    }
   ],
   "source": [
    "mystring"
   ]
  },
  {
   "cell_type": "code",
   "execution_count": 11,
   "metadata": {
    "executionInfo": {
     "elapsed": 18,
     "status": "ok",
     "timestamp": 1622473085118,
     "user": {
      "displayName": "Ignacio Soteras",
      "photoUrl": "",
      "userId": "02050793736257155229"
     },
     "user_tz": -120
    },
    "id": "7__zVhEyTDQI"
   },
   "outputs": [],
   "source": [
    "a = mystring"
   ]
  },
  {
   "cell_type": "code",
   "execution_count": 12,
   "metadata": {
    "colab": {
     "base_uri": "https://localhost:8080/",
     "height": 35
    },
    "executionInfo": {
     "elapsed": 19,
     "status": "ok",
     "timestamp": 1622473085119,
     "user": {
      "displayName": "Ignacio Soteras",
      "photoUrl": "",
      "userId": "02050793736257155229"
     },
     "user_tz": -120
    },
    "id": "OSoPpcYYTDQI",
    "outputId": "b882f2e1-9c7b-4c4b-cf33-dbe53ee9dab4"
   },
   "outputs": [
    {
     "data": {
      "text/plain": [
       "'Good bye'"
      ]
     },
     "execution_count": 12,
     "metadata": {},
     "output_type": "execute_result"
    }
   ],
   "source": [
    "a"
   ]
  },
  {
   "cell_type": "code",
   "execution_count": 13,
   "metadata": {
    "colab": {
     "base_uri": "https://localhost:8080/",
     "height": 35
    },
    "executionInfo": {
     "elapsed": 18,
     "status": "ok",
     "timestamp": 1622473085120,
     "user": {
      "displayName": "Ignacio Soteras",
      "photoUrl": "",
      "userId": "02050793736257155229"
     },
     "user_tz": -120
    },
    "id": "MUG1MKVSTDQI",
    "outputId": "4b0b8af6-10e6-45b0-82a3-fe184a8aad0e"
   },
   "outputs": [
    {
     "data": {
      "text/plain": [
       "'Good bye!'"
      ]
     },
     "execution_count": 13,
     "metadata": {},
     "output_type": "execute_result"
    }
   ],
   "source": [
    "a=a + \"!\"\n",
    "a"
   ]
  },
  {
   "cell_type": "code",
   "execution_count": 14,
   "metadata": {},
   "outputs": [
    {
     "data": {
      "text/plain": [
       "'Good bye'"
      ]
     },
     "execution_count": 14,
     "metadata": {},
     "output_type": "execute_result"
    }
   ],
   "source": [
    "mystring"
   ]
  },
  {
   "cell_type": "markdown",
   "metadata": {
    "id": "hywy3F9rHyHC"
   },
   "source": [
    "#### Clean students' names"
   ]
  },
  {
   "cell_type": "code",
   "execution_count": 1,
   "metadata": {
    "executionInfo": {
     "elapsed": 4,
     "status": "ok",
     "timestamp": 1628247646669,
     "user": {
      "displayName": "Rafa H",
      "photoUrl": "https://lh3.googleusercontent.com/a-/AOh14GgDQKi8G69cJ8pT0MCNxLEdzFN1NYmwWBT5cjnb3B8=s64",
      "userId": "02794594023825428143"
     },
     "user_tz": -120
    },
    "id": "8Wb5uSpAHyHD"
   },
   "outputs": [],
   "source": [
    "students = [\"Dmitri Risaev\",\n",
    "\"Doris Angelica Blanco Garcia\",\n",
    "\"Evans Kiplangat Rono\",\n",
    "\"Festus Oladipo\",\n",
    "\"Frederik Nurnus\",\n",
    "\"Ilkay Müller\",\n",
    "\"Jorge Aguilar\",\n",
    "\"Juan Giussani\",\n",
    "\"Juliette Degoul\",\n",
    "\"Justyna Kurach\",\n",
    "\"Mar Sánchez\",\n",
    "\"Mathilde Marie Monge\",\n",
    "\"Monika Radominska\",\n",
    "\"Nagarjuna Jupally\",\n",
    "\"Nandhini Natrayan\",\n",
    "\"Santi Neves\",\n",
    "\"Unmesh Gupta\",\n",
    "\"Yaren Merve Akın\"]"
   ]
  },
  {
   "cell_type": "code",
   "execution_count": 2,
   "metadata": {
    "executionInfo": {
     "elapsed": 236,
     "status": "ok",
     "timestamp": 1628247653052,
     "user": {
      "displayName": "Rafa H",
      "photoUrl": "https://lh3.googleusercontent.com/a-/AOh14GgDQKi8G69cJ8pT0MCNxLEdzFN1NYmwWBT5cjnb3B8=s64",
      "userId": "02794594023825428143"
     },
     "user_tz": -120
    },
    "id": "y_8SSGusHyHE"
   },
   "outputs": [
    {
     "data": {
      "text/plain": [
       "['Dmitri-Risaev',\n",
       " 'Doris-Angelica-Blanco-Garcia',\n",
       " 'Evans-Kiplangat-Rono',\n",
       " 'Festus-Oladipo',\n",
       " 'Frederik-Nurnus',\n",
       " 'Ilkay-Müller',\n",
       " 'Jorge-Aguilar',\n",
       " 'Juan-Giussani',\n",
       " 'Juliette-Degoul',\n",
       " 'Justyna-Kurach',\n",
       " 'Mar-Sánchez',\n",
       " 'Mathilde-Marie-Monge',\n",
       " 'Monika-Radominska',\n",
       " 'Nagarjuna-Jupally',\n",
       " 'Nandhini-Natrayan',\n",
       " 'Santi-Neves',\n",
       " 'Unmesh-Gupta',\n",
       " 'Yaren-Merve-Akın']"
      ]
     },
     "execution_count": 2,
     "metadata": {},
     "output_type": "execute_result"
    }
   ],
   "source": [
    "\n",
    "clean_list = []\n",
    "for name in students:\n",
    "    clean_list.append(name.replace(\" \", \"-\"))\n",
    "    \n",
    "clean_list"
   ]
  },
  {
   "cell_type": "markdown",
   "metadata": {
    "id": "1p-C7UfoHyHG"
   },
   "source": [
    "#### Detect colors in sentences:"
   ]
  },
  {
   "cell_type": "code",
   "execution_count": 4,
   "metadata": {
    "id": "0ZJ7KdE0HyHG"
   },
   "outputs": [],
   "source": [
    "colors = [\"red\", \"blue\", \"green\", \"orange\", \"yellow\", \"black\", \"purple\", \"white\", \"brown\", \"gray\", \"pink\"]\n",
    "\n",
    "sentences = [\"My jacket is green\", \"I like red apples\", \"We are all in a yellow submarine\", \"Black lives matter\",\n",
    "             \"I'm blue da ba dee da ba daa\", \"Purple rain\", \"Coral is far more red than her lips' red\"]"
   ]
  },
  {
   "cell_type": "markdown",
   "metadata": {
    "id": "qgfGRW5YHyHI"
   },
   "source": [
    "#### Have you detected \"Black\"?"
   ]
  },
  {
   "cell_type": "code",
   "execution_count": 22,
   "metadata": {},
   "outputs": [
    {
     "name": "stdout",
     "output_type": "stream",
     "text": [
      "green is detected in the list : My jacket is green\n",
      "red is detected in the list : I like red apples\n",
      "yellow is detected in the list : We are all in a yellow submarine\n",
      "blue is detected in the list : I'm blue da ba dee da ba daa\n",
      "red is detected in the list : Coral is far more red than her lips' red\n"
     ]
    }
   ],
   "source": [
    "## for each sentence do the follwoing \n",
    "    ## for each color in the colors list please do the following:\n",
    "          # Search for the color as sub string in the whole sentence \n",
    "          # If the color is FOUND in the sentence do the folowing:\n",
    "            ##print the following:  \"Color is detected in this list [list name]\"\n",
    "            \n",
    "        \n",
    "for sentence in sentences:\n",
    "    for color in colors:\n",
    "        ## if color is found in the sentence\n",
    "        if(sentence.find(color) !=-1):\n",
    "            print (color + \" is detected in the list : \"+ sentence)"
   ]
  },
  {
   "cell_type": "code",
   "execution_count": null,
   "metadata": {
    "id": "5ai5qEoRHyHJ",
    "outputId": "03294d0c-16cd-4e3c-ed91-4a5feee75254"
   },
   "outputs": [],
   "source": [
    "for sentence in sentences:\n",
    "    for color in colors:\n",
    "        if sentence.lower().find(color) != -1:\n",
    "            print(color + \" detected\")"
   ]
  },
  {
   "cell_type": "code",
   "execution_count": 3,
   "metadata": {},
   "outputs": [
    {
     "data": {
      "text/plain": [
       "-1"
      ]
     },
     "execution_count": 3,
     "metadata": {},
     "output_type": "execute_result"
    }
   ],
   "source": [
    "name = 'Mar'\n",
    "name.find('f')"
   ]
  },
  {
   "cell_type": "markdown",
   "metadata": {
    "id": "1kVMrQyXHyHK"
   },
   "source": [
    "#### Make it a function:"
   ]
  },
  {
   "cell_type": "code",
   "execution_count": 5,
   "metadata": {
    "id": "fVrwiwVcHyHK"
   },
   "outputs": [],
   "source": [
    "def color_detector(colors_list, sentences_list):\n",
    "    for sentence in sentences_list:\n",
    "        for color in colors_list:\n",
    "            if sentence.lower().find(color) != -1:\n",
    "                print(color + \" detected\")"
   ]
  },
  {
   "cell_type": "code",
   "execution_count": 6,
   "metadata": {
    "id": "w3va0iXYHyHK",
    "outputId": "9d509879-01c1-41ab-e410-d41c677905e7"
   },
   "outputs": [
    {
     "name": "stdout",
     "output_type": "stream",
     "text": [
      "green detected\n",
      "red detected\n",
      "yellow detected\n",
      "black detected\n",
      "blue detected\n",
      "purple detected\n",
      "red detected\n"
     ]
    }
   ],
   "source": [
    "color_detector(colors, sentences)"
   ]
  },
  {
   "cell_type": "markdown",
   "metadata": {
    "id": "Hq9vQu0eHyHL"
   },
   "source": [
    "#### Replace a color for another one (at random):"
   ]
  },
  {
   "cell_type": "code",
   "execution_count": 7,
   "metadata": {
    "id": "UWMC0jJqHyHL"
   },
   "outputs": [],
   "source": [
    "import random"
   ]
  },
  {
   "cell_type": "markdown",
   "metadata": {
    "id": "6FuNdvMkHyHM"
   },
   "source": [
    "#### Replace the color for another color, picked at random:"
   ]
  },
  {
   "cell_type": "code",
   "execution_count": 8,
   "metadata": {
    "id": "qip9nO4HHyHM",
    "outputId": "18ead4b0-8de4-48b4-ae7d-841bbdd7f7d7"
   },
   "outputs": [
    {
     "name": "stdout",
     "output_type": "stream",
     "text": [
      "0 my jacket is green\n",
      "1 i like green apples\n",
      "2 we are all in a purple submarine\n",
      "3 purple lives matter\n",
      "4 i'm blue da ba dee da ba daa\n",
      "5 black rain\n",
      "6 coral is far more green than her lips' green\n"
     ]
    }
   ],
   "source": [
    "for index,sentence in enumerate(sentences):\n",
    "    sentence = sentence.lower()\n",
    "    for color in colors:\n",
    "        ### if the color is FOUND in the sentence\n",
    "        if sentence.find(color) != -1:\n",
    "            print(str(index)+ ' ' + sentence.replace(color, random.choice(colors)))\n",
    "            #sentences[index]=sentence.replace(color, random.choice(colors))"
   ]
  },
  {
   "cell_type": "code",
   "execution_count": 9,
   "metadata": {},
   "outputs": [
    {
     "name": "stdout",
     "output_type": "stream",
     "text": [
      "my jacket is red\n",
      "i like orange apples\n",
      "we are all in a yellow submarine\n",
      "gray lives matter\n",
      "i'm yellow da ba dee da ba daa\n",
      "purple rain\n",
      "coral is far more red than her lips' red\n"
     ]
    }
   ],
   "source": [
    "for sentence in sentences:\n",
    "    sentence = sentence.lower()\n",
    "    for color in colors:\n",
    "        ### if the color is FOUND in the sentence\n",
    "        if sentence.find(color) != -1:\n",
    "            print(sentence.replace(color, random.choice(colors)))\n",
    "            #sentences[index]=sentence.replace(color, random.choice(colors))"
   ]
  },
  {
   "cell_type": "code",
   "execution_count": null,
   "metadata": {},
   "outputs": [],
   "source": []
  }
 ],
 "metadata": {
  "colab": {
   "name": "Code_Along _Python_String_Operations.ipynb",
   "provenance": []
  },
  "kernelspec": {
   "display_name": "Python 3 (ipykernel)",
   "language": "python",
   "name": "python3"
  },
  "language_info": {
   "codemirror_mode": {
    "name": "ipython",
    "version": 3
   },
   "file_extension": ".py",
   "mimetype": "text/x-python",
   "name": "python",
   "nbconvert_exporter": "python",
   "pygments_lexer": "ipython3",
   "version": "3.9.13"
  },
  "toc": {
   "base_numbering": 1,
   "nav_menu": {},
   "number_sections": false,
   "sideBar": true,
   "skip_h1_title": false,
   "title_cell": "Table of Contents",
   "title_sidebar": "Contents",
   "toc_cell": false,
   "toc_position": {},
   "toc_section_display": true,
   "toc_window_display": false
  }
 },
 "nbformat": 4,
 "nbformat_minor": 1
}
