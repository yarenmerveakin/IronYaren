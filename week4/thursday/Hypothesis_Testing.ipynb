{
 "cells": [
  {
   "cell_type": "code",
   "execution_count": 14,
   "id": "69f6e6cb",
   "metadata": {},
   "outputs": [],
   "source": [
    "import numpy as np\n",
    "import pandas as pd\n",
    "import scipy.stats as stats\n",
    "import matplotlib.pyplot as plt\n",
    "import seaborn as sns\n",
    "\n",
    "%matplotlib inline"
   ]
  },
  {
   "cell_type": "markdown",
   "id": "22d0c7b7",
   "metadata": {},
   "source": [
    "### It is assumed that the mean systolic blood pressure is μ = 120 mm Hg. In the Honolulu Heart Study, a sample of n = 100 people had an average systolic blood pressure of 130.1 mm Hg with a standard deviation of 21.21 mm Hg. "
   ]
  },
  {
   "cell_type": "markdown",
   "id": "e2cab2a7",
   "metadata": {},
   "source": [
    "### Is the group significantly different (with respect to systolic blood pressure!) from the regular population?"
   ]
  },
  {
   "cell_type": "code",
   "execution_count": null,
   "id": "821424cc",
   "metadata": {},
   "outputs": [],
   "source": [
    "Yes. "
   ]
  },
  {
   "cell_type": "markdown",
   "id": "421ecd28",
   "metadata": {},
   "source": [
    "### Set up the hypothesis test."
   ]
  },
  {
   "cell_type": "code",
   "execution_count": null,
   "id": "ceebda6b",
   "metadata": {},
   "outputs": [],
   "source": [
    "H0 = μ = 120 \n",
    "Ha = μ != 120 \n",
    "\n",
    "n = 100 \n",
    "sample_mean = 130.1\n",
    "standard_deviation = 21.21"
   ]
  },
  {
   "cell_type": "code",
   "execution_count": 8,
   "id": "e338e7eb",
   "metadata": {},
   "outputs": [
    {
     "data": {
      "text/plain": [
       "4.761904761904759"
      ]
     },
     "execution_count": 8,
     "metadata": {},
     "output_type": "execute_result"
    }
   ],
   "source": [
    "t = (130.1 - 120)/(21.21/10)\n",
    "t"
   ]
  },
  {
   "cell_type": "code",
   "execution_count": 15,
   "id": "037b1d36",
   "metadata": {},
   "outputs": [],
   "source": [
    "tc =  1.660 "
   ]
  },
  {
   "cell_type": "code",
   "execution_count": null,
   "id": "e441f9b0",
   "metadata": {},
   "outputs": [],
   "source": [
    "t > tc ---- do not reject null hypothesis"
   ]
  },
  {
   "cell_type": "markdown",
   "id": "3dfa278c",
   "metadata": {},
   "source": [
    "### Calculate the test statistic by hand and also code it in Python. It should be 4.76190. What decision can you make based on this calculated value?"
   ]
  },
  {
   "cell_type": "code",
   "execution_count": 18,
   "id": "fc367207",
   "metadata": {},
   "outputs": [],
   "source": [
    "H0 = μ = 120 \n",
    "Ha = μ != 120 \n",
    "\n",
    "n = 100 \n",
    "sample_mean = 130.1\n",
    "pop_mean = 120\n",
    "standard_deviation = 21.21"
   ]
  },
  {
   "cell_type": "code",
   "execution_count": 22,
   "id": "257f5e08",
   "metadata": {},
   "outputs": [
    {
     "name": "stdout",
     "output_type": "stream",
     "text": [
      "Our t value is: 4.76\n"
     ]
    }
   ],
   "source": [
    "t = (sample_mean - pop_mean)/ (standard_deviation/ np.sqrt(100))\n",
    "print(\"Our t value is: {:.2f}\".format(t))"
   ]
  },
  {
   "cell_type": "code",
   "execution_count": 23,
   "id": "f6737371",
   "metadata": {},
   "outputs": [
    {
     "name": "stdout",
     "output_type": "stream",
     "text": [
      "Do not reject H0\n"
     ]
    }
   ],
   "source": [
    "if t < tc :\n",
    "    print(\"Reject H0\")\n",
    "else: \n",
    "    print(\"Do not reject H0\")"
   ]
  },
  {
   "cell_type": "markdown",
   "id": "93fe70e1",
   "metadata": {},
   "source": [
    "### Optional : \n",
    "In a packing plant, a machine packs cartons with jars. It is supposed that a new machine will pack faster on the average than the machine currently used. To test that hypothesis, the times it takes each machine to pack ten cartons are recorded. The results, in seconds, are shown in the tables in the file Data/machine.txt. Assume that there is sufficient evidence to conduct the t test, does the data provide sufficient evidence to show if one machine is better than the other.\n",
    "Hint: use two sample t-test\n",
    "\n",
    "t= (sample_mean(x1) - sample_mean(x2)) / sqrt(square(s1)/n1 + square(s2)/n2 )"
   ]
  },
  {
   "cell_type": "markdown",
   "id": "4b3809f6",
   "metadata": {},
   "source": [
    "New Machine\t  Old Machine\n",
    "42.1\t        42.7\n",
    "41\t          43.6\n",
    "41.3\t        43.8\n",
    "41.8\t        43.3\n",
    "42.4\t        42.5\n",
    "42.8\t        43.5\n",
    "43.2\t        43.1\n",
    "42.3\t        41.7\n",
    "41.8\t        44\n",
    "42.7\t        44.1"
   ]
  },
  {
   "cell_type": "markdown",
   "id": "1b5a2b47",
   "metadata": {},
   "source": [
    "H0: μ1 ≠ μ2\n",
    "Ha: μ1 = μ2"
   ]
  },
  {
   "cell_type": "code",
   "execution_count": 26,
   "id": "2df27090",
   "metadata": {},
   "outputs": [
    {
     "data": {
      "text/plain": [
       "42.14"
      ]
     },
     "execution_count": 26,
     "metadata": {},
     "output_type": "execute_result"
    }
   ],
   "source": [
    "New_machine_mean = ((42.1 + 41 + 41.3 + 41.8 + 42.4 + 42.8 + 43.2 +42.3 + 41.8 +42.7)/10)\n",
    "New_machine_mean"
   ]
  },
  {
   "cell_type": "code",
   "execution_count": 28,
   "id": "9a3eb90d",
   "metadata": {},
   "outputs": [
    {
     "data": {
      "text/plain": [
       "43.230000000000004"
      ]
     },
     "execution_count": 28,
     "metadata": {},
     "output_type": "execute_result"
    }
   ],
   "source": [
    "Old_machine_mean = ((42.7 + 43.6 + 43.8 + 43.3 + 42.5 + 43.5 + 43.1 + 41.7 +44 + 44.1)/10)\n",
    "Old_machine_mean"
   ]
  },
  {
   "cell_type": "code",
   "execution_count": 30,
   "id": "463e50d3",
   "metadata": {},
   "outputs": [
    {
     "data": {
      "text/plain": [
       "0.4671"
      ]
     },
     "execution_count": 30,
     "metadata": {},
     "output_type": "execute_result"
    }
   ],
   "source": [
    "S1_square = 0.4671\n",
    "S1_square"
   ]
  },
  {
   "cell_type": "code",
   "execution_count": 31,
   "id": "c1a36bc8",
   "metadata": {},
   "outputs": [
    {
     "data": {
      "text/plain": [
       "0.5623"
      ]
     },
     "execution_count": 31,
     "metadata": {},
     "output_type": "execute_result"
    }
   ],
   "source": [
    "S2_square = 0.5623\n",
    "S2_square"
   ]
  },
  {
   "cell_type": "code",
   "execution_count": 40,
   "id": "200a059b",
   "metadata": {},
   "outputs": [
    {
     "data": {
      "text/plain": [
       "-7.604754800709014"
      ]
     },
     "execution_count": 40,
     "metadata": {},
     "output_type": "execute_result"
    }
   ],
   "source": [
    "t = (New_machine_mean - Old_machine_mean) / ((np.sqrt(S1_square))/10 + (np.sqrt(S2_square))/10)\n",
    "t"
   ]
  },
  {
   "cell_type": "code",
   "execution_count": null,
   "id": "d4705271",
   "metadata": {},
   "outputs": [],
   "source": []
  }
 ],
 "metadata": {
  "kernelspec": {
   "display_name": "Python 3 (ipykernel)",
   "language": "python",
   "name": "python3"
  },
  "language_info": {
   "codemirror_mode": {
    "name": "ipython",
    "version": 3
   },
   "file_extension": ".py",
   "mimetype": "text/x-python",
   "name": "python",
   "nbconvert_exporter": "python",
   "pygments_lexer": "ipython3",
   "version": "3.9.13"
  }
 },
 "nbformat": 4,
 "nbformat_minor": 5
}
